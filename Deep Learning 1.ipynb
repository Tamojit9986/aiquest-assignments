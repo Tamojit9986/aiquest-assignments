{
 "cells": [
  {
   "cell_type": "markdown",
   "id": "10a1d61c",
   "metadata": {},
   "source": [
    "# Feature Scaling:"
   ]
  },
  {
   "cell_type": "code",
   "execution_count": 1,
   "id": "02e07655",
   "metadata": {},
   "outputs": [],
   "source": [
    "#1. Normalizaion\n",
    "#2. Standardization"
   ]
  },
  {
   "cell_type": "code",
   "execution_count": 2,
   "id": "29054214",
   "metadata": {},
   "outputs": [],
   "source": [
    "import pandas as pd\n",
    "import numpy as np\n",
    "import matplotlib.pyplot as plt"
   ]
  },
  {
   "cell_type": "code",
   "execution_count": 4,
   "id": "11489fde",
   "metadata": {},
   "outputs": [
    {
     "data": {
      "text/html": [
       "<div>\n",
       "<style scoped>\n",
       "    .dataframe tbody tr th:only-of-type {\n",
       "        vertical-align: middle;\n",
       "    }\n",
       "\n",
       "    .dataframe tbody tr th {\n",
       "        vertical-align: top;\n",
       "    }\n",
       "\n",
       "    .dataframe thead th {\n",
       "        text-align: right;\n",
       "    }\n",
       "</style>\n",
       "<table border=\"1\" class=\"dataframe\">\n",
       "  <thead>\n",
       "    <tr style=\"text-align: right;\">\n",
       "      <th></th>\n",
       "      <th>country</th>\n",
       "      <th>age</th>\n",
       "      <th>salary</th>\n",
       "      <th>purchase</th>\n",
       "    </tr>\n",
       "  </thead>\n",
       "  <tbody>\n",
       "    <tr>\n",
       "      <th>0</th>\n",
       "      <td>france</td>\n",
       "      <td>44</td>\n",
       "      <td>72000</td>\n",
       "      <td>no</td>\n",
       "    </tr>\n",
       "    <tr>\n",
       "      <th>1</th>\n",
       "      <td>spain</td>\n",
       "      <td>27</td>\n",
       "      <td>49000</td>\n",
       "      <td>yes</td>\n",
       "    </tr>\n",
       "    <tr>\n",
       "      <th>2</th>\n",
       "      <td>india</td>\n",
       "      <td>30</td>\n",
       "      <td>58000</td>\n",
       "      <td>no</td>\n",
       "    </tr>\n",
       "    <tr>\n",
       "      <th>3</th>\n",
       "      <td>germany</td>\n",
       "      <td>38</td>\n",
       "      <td>61000</td>\n",
       "      <td>no</td>\n",
       "    </tr>\n",
       "    <tr>\n",
       "      <th>4</th>\n",
       "      <td>spain</td>\n",
       "      <td>40</td>\n",
       "      <td>70000</td>\n",
       "      <td>yes</td>\n",
       "    </tr>\n",
       "    <tr>\n",
       "      <th>5</th>\n",
       "      <td>india</td>\n",
       "      <td>35</td>\n",
       "      <td>50000</td>\n",
       "      <td>no</td>\n",
       "    </tr>\n",
       "    <tr>\n",
       "      <th>6</th>\n",
       "      <td>france</td>\n",
       "      <td>31</td>\n",
       "      <td>52000</td>\n",
       "      <td>yes</td>\n",
       "    </tr>\n",
       "    <tr>\n",
       "      <th>7</th>\n",
       "      <td>germany</td>\n",
       "      <td>45</td>\n",
       "      <td>63000</td>\n",
       "      <td>yes</td>\n",
       "    </tr>\n",
       "    <tr>\n",
       "      <th>8</th>\n",
       "      <td>spain</td>\n",
       "      <td>50</td>\n",
       "      <td>67000</td>\n",
       "      <td>yes</td>\n",
       "    </tr>\n",
       "  </tbody>\n",
       "</table>\n",
       "</div>"
      ],
      "text/plain": [
       "   country  age  salary purchase\n",
       "0   france   44   72000       no\n",
       "1    spain   27   49000      yes\n",
       "2    india   30   58000       no\n",
       "3  germany   38   61000       no\n",
       "4    spain   40   70000      yes\n",
       "5    india   35   50000       no\n",
       "6   france   31   52000      yes\n",
       "7  germany   45   63000      yes\n",
       "8    spain   50   67000      yes"
      ]
     },
     "execution_count": 4,
     "metadata": {},
     "output_type": "execute_result"
    }
   ],
   "source": [
    "data_set = pd.read_csv(\"feature_scaling.csv\")\n",
    "data_set"
   ]
  },
  {
   "cell_type": "code",
   "execution_count": 5,
   "id": "d6dbe592",
   "metadata": {},
   "outputs": [
    {
     "data": {
      "text/html": [
       "<div>\n",
       "<style scoped>\n",
       "    .dataframe tbody tr th:only-of-type {\n",
       "        vertical-align: middle;\n",
       "    }\n",
       "\n",
       "    .dataframe tbody tr th {\n",
       "        vertical-align: top;\n",
       "    }\n",
       "\n",
       "    .dataframe thead th {\n",
       "        text-align: right;\n",
       "    }\n",
       "</style>\n",
       "<table border=\"1\" class=\"dataframe\">\n",
       "  <thead>\n",
       "    <tr style=\"text-align: right;\">\n",
       "      <th></th>\n",
       "      <th>age</th>\n",
       "      <th>salary</th>\n",
       "    </tr>\n",
       "  </thead>\n",
       "  <tbody>\n",
       "    <tr>\n",
       "      <th>0</th>\n",
       "      <td>44</td>\n",
       "      <td>72000</td>\n",
       "    </tr>\n",
       "    <tr>\n",
       "      <th>1</th>\n",
       "      <td>27</td>\n",
       "      <td>49000</td>\n",
       "    </tr>\n",
       "    <tr>\n",
       "      <th>2</th>\n",
       "      <td>30</td>\n",
       "      <td>58000</td>\n",
       "    </tr>\n",
       "    <tr>\n",
       "      <th>3</th>\n",
       "      <td>38</td>\n",
       "      <td>61000</td>\n",
       "    </tr>\n",
       "    <tr>\n",
       "      <th>4</th>\n",
       "      <td>40</td>\n",
       "      <td>70000</td>\n",
       "    </tr>\n",
       "    <tr>\n",
       "      <th>5</th>\n",
       "      <td>35</td>\n",
       "      <td>50000</td>\n",
       "    </tr>\n",
       "    <tr>\n",
       "      <th>6</th>\n",
       "      <td>31</td>\n",
       "      <td>52000</td>\n",
       "    </tr>\n",
       "    <tr>\n",
       "      <th>7</th>\n",
       "      <td>45</td>\n",
       "      <td>63000</td>\n",
       "    </tr>\n",
       "    <tr>\n",
       "      <th>8</th>\n",
       "      <td>50</td>\n",
       "      <td>67000</td>\n",
       "    </tr>\n",
       "  </tbody>\n",
       "</table>\n",
       "</div>"
      ],
      "text/plain": [
       "   age  salary\n",
       "0   44   72000\n",
       "1   27   49000\n",
       "2   30   58000\n",
       "3   38   61000\n",
       "4   40   70000\n",
       "5   35   50000\n",
       "6   31   52000\n",
       "7   45   63000\n",
       "8   50   67000"
      ]
     },
     "execution_count": 5,
     "metadata": {},
     "output_type": "execute_result"
    }
   ],
   "source": [
    "x = data_set.iloc[:,1:3]\n",
    "x"
   ]
  },
  {
   "cell_type": "markdown",
   "id": "265e9e86",
   "metadata": {},
   "source": [
    "# MinMaxScaler:"
   ]
  },
  {
   "cell_type": "code",
   "execution_count": 6,
   "id": "0ce335a0",
   "metadata": {},
   "outputs": [],
   "source": [
    "from sklearn.preprocessing import MinMaxScaler"
   ]
  },
  {
   "cell_type": "code",
   "execution_count": 7,
   "id": "58303568",
   "metadata": {},
   "outputs": [],
   "source": [
    "mms = MinMaxScaler(feature_range=(0, 1))"
   ]
  },
  {
   "cell_type": "markdown",
   "id": "6aae53b8",
   "metadata": {},
   "source": [
    "# tranforming x now:"
   ]
  },
  {
   "cell_type": "code",
   "execution_count": 8,
   "id": "1992829c",
   "metadata": {},
   "outputs": [],
   "source": [
    "x_after_minmax = mms.fit_transform(x)"
   ]
  },
  {
   "cell_type": "code",
   "execution_count": 9,
   "id": "b57fffcc",
   "metadata": {},
   "outputs": [
    {
     "data": {
      "text/plain": [
       "array([[0.73913043, 1.        ],\n",
       "       [0.        , 0.        ],\n",
       "       [0.13043478, 0.39130435],\n",
       "       [0.47826087, 0.52173913],\n",
       "       [0.56521739, 0.91304348],\n",
       "       [0.34782609, 0.04347826],\n",
       "       [0.17391304, 0.13043478],\n",
       "       [0.7826087 , 0.60869565],\n",
       "       [1.        , 0.7826087 ]])"
      ]
     },
     "execution_count": 9,
     "metadata": {},
     "output_type": "execute_result"
    }
   ],
   "source": [
    "x_after_minmax"
   ]
  },
  {
   "cell_type": "markdown",
   "id": "11772ce2",
   "metadata": {},
   "source": [
    "# Standardization:"
   ]
  },
  {
   "cell_type": "code",
   "execution_count": 10,
   "id": "5cfea3ed",
   "metadata": {},
   "outputs": [],
   "source": [
    "from sklearn.preprocessing import StandardScaler"
   ]
  },
  {
   "cell_type": "code",
   "execution_count": 11,
   "id": "4545beb1",
   "metadata": {},
   "outputs": [],
   "source": [
    "standard = StandardScaler()"
   ]
  },
  {
   "cell_type": "markdown",
   "id": "48d3d511",
   "metadata": {},
   "source": [
    "# Tranforming the X for standardization:"
   ]
  },
  {
   "cell_type": "code",
   "execution_count": 12,
   "id": "430cc733",
   "metadata": {},
   "outputs": [],
   "source": [
    "x_after_standard = standard.fit_transform(x)"
   ]
  },
  {
   "cell_type": "code",
   "execution_count": 13,
   "id": "e4f4277c",
   "metadata": {},
   "outputs": [
    {
     "data": {
      "text/plain": [
       "array([[ 0.85598498,  1.45273648],\n",
       "       [-1.48268826, -1.38421117],\n",
       "       [-1.06998122, -0.27410122],\n",
       "       [ 0.03057089,  0.09593543],\n",
       "       [ 0.30570892,  1.20604538],\n",
       "       [-0.38213615, -1.26086562],\n",
       "       [-0.93241221, -1.01417452],\n",
       "       [ 0.99355399,  0.34262653],\n",
       "       [ 1.68139906,  0.83600873]])"
      ]
     },
     "execution_count": 13,
     "metadata": {},
     "output_type": "execute_result"
    }
   ],
   "source": [
    "x_after_standard"
   ]
  },
  {
   "cell_type": "code",
   "execution_count": null,
   "id": "303ceadc",
   "metadata": {},
   "outputs": [],
   "source": []
  }
 ],
 "metadata": {
  "kernelspec": {
   "display_name": "Python 3 (ipykernel)",
   "language": "python",
   "name": "python3"
  },
  "language_info": {
   "codemirror_mode": {
    "name": "ipython",
    "version": 3
   },
   "file_extension": ".py",
   "mimetype": "text/x-python",
   "name": "python",
   "nbconvert_exporter": "python",
   "pygments_lexer": "ipython3",
   "version": "3.10.4"
  }
 },
 "nbformat": 4,
 "nbformat_minor": 5
}
