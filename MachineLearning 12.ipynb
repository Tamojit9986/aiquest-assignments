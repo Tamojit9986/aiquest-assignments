{
 "cells": [
  {
   "cell_type": "markdown",
   "id": "b00c22d4",
   "metadata": {},
   "source": [
    "# Saving ML models:"
   ]
  },
  {
   "cell_type": "code",
   "execution_count": 1,
   "id": "13333aee",
   "metadata": {},
   "outputs": [],
   "source": [
    "import pickle as pk"
   ]
  },
  {
   "cell_type": "code",
   "execution_count": 4,
   "id": "40d10c96",
   "metadata": {},
   "outputs": [
    {
     "ename": "NameError",
     "evalue": "name 'r' is not defined",
     "output_type": "error",
     "traceback": [
      "\u001b[1;31m---------------------------------------------------------------------------\u001b[0m",
      "\u001b[1;31mNameError\u001b[0m                                 Traceback (most recent call last)",
      "Input \u001b[1;32mIn [4]\u001b[0m, in \u001b[0;36m<cell line: 1>\u001b[1;34m()\u001b[0m\n\u001b[0;32m      1\u001b[0m \u001b[38;5;28;01mwith\u001b[39;00m \u001b[38;5;28mopen\u001b[39m(\u001b[38;5;124m\"\u001b[39m\u001b[38;5;124mCardio_vascular project\u001b[39m\u001b[38;5;124m\"\u001b[39m,\u001b[38;5;124m\"\u001b[39m\u001b[38;5;124mwb\u001b[39m\u001b[38;5;124m\"\u001b[39m) \u001b[38;5;28;01mas\u001b[39;00m file:\n\u001b[1;32m----> 2\u001b[0m     pk\u001b[38;5;241m.\u001b[39mdump(\u001b[43mr\u001b[49m,file)\n",
      "\u001b[1;31mNameError\u001b[0m: name 'r' is not defined"
     ]
    }
   ],
   "source": [
    "with open(\"Cardio_vascular project\",\"wb\") as file:\n",
    "    pk.dump(r,file)"
   ]
  },
  {
   "cell_type": "code",
   "execution_count": 5,
   "id": "dbefd003",
   "metadata": {},
   "outputs": [],
   "source": [
    "#Here r is the variable that holds RandomForestClassifier object"
   ]
  },
  {
   "cell_type": "markdown",
   "id": "81052cbd",
   "metadata": {},
   "source": [
    "# To open the file:"
   ]
  },
  {
   "cell_type": "code",
   "execution_count": 6,
   "id": "a7a31076",
   "metadata": {},
   "outputs": [],
   "source": [
    "import pickle as pk"
   ]
  },
  {
   "cell_type": "code",
   "execution_count": 11,
   "id": "09cc719a",
   "metadata": {},
   "outputs": [
    {
     "ename": "SyntaxError",
     "evalue": "invalid syntax (19740217.py, line 2)",
     "output_type": "error",
     "traceback": [
      "\u001b[1;36m  Input \u001b[1;32mIn [11]\u001b[1;36m\u001b[0m\n\u001b[1;33m    cardio_vascular project = pk.load()\u001b[0m\n\u001b[1;37m                    ^\u001b[0m\n\u001b[1;31mSyntaxError\u001b[0m\u001b[1;31m:\u001b[0m invalid syntax\n"
     ]
    }
   ],
   "source": [
    "with open(\"cardio_vascular project\",\"rb\") as file:\n",
    "    cardio_vascular project = pk.load()"
   ]
  },
  {
   "cell_type": "code",
   "execution_count": 12,
   "id": "cde97809",
   "metadata": {},
   "outputs": [
    {
     "ename": "SyntaxError",
     "evalue": "invalid syntax (202712043.py, line 1)",
     "output_type": "error",
     "traceback": [
      "\u001b[1;36m  Input \u001b[1;32mIn [12]\u001b[1;36m\u001b[0m\n\u001b[1;33m    cardio_vascular project\u001b[0m\n\u001b[1;37m                    ^\u001b[0m\n\u001b[1;31mSyntaxError\u001b[0m\u001b[1;31m:\u001b[0m invalid syntax\n"
     ]
    }
   ],
   "source": [
    "cardio_vascular project.predict([........])"
   ]
  },
  {
   "cell_type": "code",
   "execution_count": 13,
   "id": "19abaecb",
   "metadata": {},
   "outputs": [],
   "source": [
    "#Here outputs are invalid due to file which are not connected above"
   ]
  },
  {
   "cell_type": "markdown",
   "id": "15073a70",
   "metadata": {},
   "source": [
    "# Save model in one line:"
   ]
  },
  {
   "cell_type": "code",
   "execution_count": 15,
   "id": "d6e7deda",
   "metadata": {},
   "outputs": [
    {
     "ename": "NameError",
     "evalue": "name 'r' is not defined",
     "output_type": "error",
     "traceback": [
      "\u001b[1;31m---------------------------------------------------------------------------\u001b[0m",
      "\u001b[1;31mNameError\u001b[0m                                 Traceback (most recent call last)",
      "Input \u001b[1;32mIn [15]\u001b[0m, in \u001b[0;36m<cell line: 1>\u001b[1;34m()\u001b[0m\n\u001b[1;32m----> 1\u001b[0m pk\u001b[38;5;241m.\u001b[39mdump(\u001b[43mr\u001b[49m,\u001b[38;5;28mopen\u001b[39m(\u001b[38;5;124m\"\u001b[39m\u001b[38;5;124mcardio_vascular project\u001b[39m\u001b[38;5;124m\"\u001b[39m,\u001b[38;5;124m\"\u001b[39m\u001b[38;5;124mwb\u001b[39m\u001b[38;5;124m\"\u001b[39m))\n",
      "\u001b[1;31mNameError\u001b[0m: name 'r' is not defined"
     ]
    }
   ],
   "source": [
    "pk.dump(r,open(\"cardio_vascular project\",\"wb\"))"
   ]
  },
  {
   "cell_type": "markdown",
   "id": "543a286f",
   "metadata": {},
   "source": [
    "# To see the current working directory:"
   ]
  },
  {
   "cell_type": "code",
   "execution_count": 16,
   "id": "407571b2",
   "metadata": {},
   "outputs": [],
   "source": [
    "import os"
   ]
  },
  {
   "cell_type": "code",
   "execution_count": 17,
   "id": "9149dc2e",
   "metadata": {},
   "outputs": [
    {
     "data": {
      "text/plain": [
       "'D:\\\\Python\\\\project1\\\\Machine Learning'"
      ]
     },
     "execution_count": 17,
     "metadata": {},
     "output_type": "execute_result"
    }
   ],
   "source": [
    "os.getcwd()"
   ]
  },
  {
   "cell_type": "markdown",
   "id": "d2e701cb",
   "metadata": {},
   "source": [
    "# Open Model with single command:"
   ]
  },
  {
   "cell_type": "code",
   "execution_count": 18,
   "id": "5c675ac3",
   "metadata": {},
   "outputs": [],
   "source": [
    "cardio = pk.load(open(\"cardio_vascular project\",\"rb\"))"
   ]
  }
 ],
 "metadata": {
  "kernelspec": {
   "display_name": "Python 3 (ipykernel)",
   "language": "python",
   "name": "python3"
  },
  "language_info": {
   "codemirror_mode": {
    "name": "ipython",
    "version": 3
   },
   "file_extension": ".py",
   "mimetype": "text/x-python",
   "name": "python",
   "nbconvert_exporter": "python",
   "pygments_lexer": "ipython3",
   "version": "3.10.4"
  }
 },
 "nbformat": 4,
 "nbformat_minor": 5
}
