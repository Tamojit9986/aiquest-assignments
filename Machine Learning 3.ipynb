{
 "cells": [
  {
   "cell_type": "code",
   "execution_count": 1,
   "id": "820a1793",
   "metadata": {},
   "outputs": [],
   "source": [
    "#R_squared value for predicting the accuracy\n",
    "#r2 = (yi(^) - y(bar))**2/(yi - y(bar))**2"
   ]
  },
  {
   "cell_type": "code",
   "execution_count": null,
   "id": "9191c7d2",
   "metadata": {},
   "outputs": [],
   "source": [
    "#r2 = R Squared Value\n",
    "#yi(^) = Predicted output for i with no data\n",
    "#y(bar) = Mean value of real outputs\n",
    "#**2 = whole square 2\n",
    "#yi = Real output value for each i data"
   ]
  },
  {
   "cell_type": "code",
   "execution_count": 3,
   "id": "da18f49d",
   "metadata": {},
   "outputs": [],
   "source": [
    "from sklearn.metrics import r2_score"
   ]
  },
  {
   "cell_type": "code",
   "execution_count": null,
   "id": "a0a5a2a4",
   "metadata": {},
   "outputs": [],
   "source": [
    "rsquared = r2_score(x_test,reg.predict(x_test))"
   ]
  }
 ],
 "metadata": {
  "kernelspec": {
   "display_name": "Python 3 (ipykernel)",
   "language": "python",
   "name": "python3"
  },
  "language_info": {
   "codemirror_mode": {
    "name": "ipython",
    "version": 3
   },
   "file_extension": ".py",
   "mimetype": "text/x-python",
   "name": "python",
   "nbconvert_exporter": "python",
   "pygments_lexer": "ipython3",
   "version": "3.10.4"
  }
 },
 "nbformat": 4,
 "nbformat_minor": 5
}
