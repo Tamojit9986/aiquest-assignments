{
 "cells": [
  {
   "cell_type": "markdown",
   "id": "68b7e28d",
   "metadata": {},
   "source": [
    "# K-Nearest Neighbour Algorithm:(Classifier)"
   ]
  },
  {
   "cell_type": "code",
   "execution_count": 1,
   "id": "aa8d658a",
   "metadata": {},
   "outputs": [],
   "source": [
    "#Assigning Features and Label column:"
   ]
  },
  {
   "cell_type": "code",
   "execution_count": 2,
   "id": "b9e169a9",
   "metadata": {},
   "outputs": [],
   "source": [
    "#first feature:"
   ]
  },
  {
   "cell_type": "code",
   "execution_count": 3,
   "id": "bf10d951",
   "metadata": {},
   "outputs": [],
   "source": [
    "weather = [\"sunny\",\"sunny\",\"overcast\",\"rainy\",\"rainy\",\"rainy\",\"overcast\",\"sunny\",\"sunny\",\"rainy\",\"sunny\",\"overcast\",\"rainy\",\"sunny\"]\n"
   ]
  },
  {
   "cell_type": "code",
   "execution_count": 4,
   "id": "3e2e4919",
   "metadata": {},
   "outputs": [],
   "source": [
    "#2nd Feature"
   ]
  },
  {
   "cell_type": "code",
   "execution_count": 5,
   "id": "d8b5864b",
   "metadata": {},
   "outputs": [],
   "source": [
    "temp = [\"hot\",\"hot\",\"hot\",\"mild\",\"cool\",\"cool\",\"cool\",\"mild\",\"cool\",\"mild\",\"mild\",\"mild\",\"hot\",\"mild\"]"
   ]
  },
  {
   "cell_type": "code",
   "execution_count": 6,
   "id": "68e1bde6",
   "metadata": {},
   "outputs": [],
   "source": [
    "#label or target variable"
   ]
  },
  {
   "cell_type": "code",
   "execution_count": 7,
   "id": "c8de7be3",
   "metadata": {},
   "outputs": [],
   "source": [
    "play = [\"no\",\"no\",\"yes\",\"yes\",\"yes\",\"no\",\"yes\",\"no\",\"yes\",\"yes\",\"yes\",\"yes\",\"yes\",\"no\"]"
   ]
  },
  {
   "cell_type": "code",
   "execution_count": null,
   "id": "0c9f0548",
   "metadata": {},
   "outputs": [],
   "source": [
    "#converting the string into integer"
   ]
  },
  {
   "cell_type": "code",
   "execution_count": 9,
   "id": "6d1ae1dc",
   "metadata": {},
   "outputs": [],
   "source": [
    "from sklearn.preprocessing import LabelEncoder"
   ]
  },
  {
   "cell_type": "code",
   "execution_count": 11,
   "id": "0990caf2",
   "metadata": {},
   "outputs": [],
   "source": [
    "le = LabelEncoder()"
   ]
  },
  {
   "cell_type": "code",
   "execution_count": 12,
   "id": "88eed0aa",
   "metadata": {},
   "outputs": [],
   "source": [
    "weather_encode = le.fit_transform(weather)"
   ]
  },
  {
   "cell_type": "code",
   "execution_count": 13,
   "id": "12e81b40",
   "metadata": {},
   "outputs": [
    {
     "data": {
      "text/plain": [
       "array([2, 2, 0, 1, 1, 1, 0, 2, 2, 1, 2, 0, 1, 2], dtype=int64)"
      ]
     },
     "execution_count": 13,
     "metadata": {},
     "output_type": "execute_result"
    }
   ],
   "source": [
    "weather_encode"
   ]
  },
  {
   "cell_type": "code",
   "execution_count": 14,
   "id": "b43582b1",
   "metadata": {},
   "outputs": [],
   "source": [
    "temp_encode = le.fit_transform(temp)"
   ]
  },
  {
   "cell_type": "code",
   "execution_count": 15,
   "id": "9a69bd13",
   "metadata": {},
   "outputs": [
    {
     "data": {
      "text/plain": [
       "array([1, 1, 1, 2, 0, 0, 0, 2, 0, 2, 2, 2, 1, 2], dtype=int64)"
      ]
     },
     "execution_count": 15,
     "metadata": {},
     "output_type": "execute_result"
    }
   ],
   "source": [
    "temp_encode"
   ]
  },
  {
   "cell_type": "code",
   "execution_count": 16,
   "id": "9a4c83ed",
   "metadata": {},
   "outputs": [],
   "source": [
    "play_encode = le.fit_transform(play)"
   ]
  },
  {
   "cell_type": "code",
   "execution_count": 17,
   "id": "8bb6c3e7",
   "metadata": {},
   "outputs": [
    {
     "data": {
      "text/plain": [
       "array([0, 0, 1, 1, 1, 0, 1, 0, 1, 1, 1, 1, 1, 0], dtype=int64)"
      ]
     },
     "execution_count": 17,
     "metadata": {},
     "output_type": "execute_result"
    }
   ],
   "source": [
    "play_encode"
   ]
  },
  {
   "cell_type": "code",
   "execution_count": 18,
   "id": "ef5b3273",
   "metadata": {},
   "outputs": [],
   "source": [
    "#combining both the features into a single list of tuples"
   ]
  },
  {
   "cell_type": "code",
   "execution_count": 19,
   "id": "1df41421",
   "metadata": {},
   "outputs": [],
   "source": [
    "features = list(zip(weather_encode,temp_encode))"
   ]
  },
  {
   "cell_type": "code",
   "execution_count": 20,
   "id": "8b99976a",
   "metadata": {},
   "outputs": [
    {
     "data": {
      "text/plain": [
       "[(2, 1),\n",
       " (2, 1),\n",
       " (0, 1),\n",
       " (1, 2),\n",
       " (1, 0),\n",
       " (1, 0),\n",
       " (0, 0),\n",
       " (2, 2),\n",
       " (2, 0),\n",
       " (1, 2),\n",
       " (2, 2),\n",
       " (0, 2),\n",
       " (1, 1),\n",
       " (2, 2)]"
      ]
     },
     "execution_count": 20,
     "metadata": {},
     "output_type": "execute_result"
    }
   ],
   "source": [
    "features"
   ]
  },
  {
   "cell_type": "code",
   "execution_count": 21,
   "id": "070f89c0",
   "metadata": {},
   "outputs": [],
   "source": [
    "#Now using the KNN Algorithm:"
   ]
  },
  {
   "cell_type": "code",
   "execution_count": 22,
   "id": "17b870cc",
   "metadata": {},
   "outputs": [],
   "source": [
    "from sklearn.neighbors import KNeighborsClassifier"
   ]
  },
  {
   "cell_type": "code",
   "execution_count": 23,
   "id": "0b430cca",
   "metadata": {},
   "outputs": [],
   "source": [
    "model = KNeighborsClassifier(n_neighbors=3) #taking the neighbor value as 3(never take even numbers as neighbor value)"
   ]
  },
  {
   "cell_type": "code",
   "execution_count": 24,
   "id": "e4b0977b",
   "metadata": {},
   "outputs": [],
   "source": [
    "#Fitting the features and Label"
   ]
  },
  {
   "cell_type": "code",
   "execution_count": 25,
   "id": "f46e15b4",
   "metadata": {},
   "outputs": [
    {
     "data": {
      "text/html": [
       "<style>#sk-container-id-1 {color: black;background-color: white;}#sk-container-id-1 pre{padding: 0;}#sk-container-id-1 div.sk-toggleable {background-color: white;}#sk-container-id-1 label.sk-toggleable__label {cursor: pointer;display: block;width: 100%;margin-bottom: 0;padding: 0.3em;box-sizing: border-box;text-align: center;}#sk-container-id-1 label.sk-toggleable__label-arrow:before {content: \"▸\";float: left;margin-right: 0.25em;color: #696969;}#sk-container-id-1 label.sk-toggleable__label-arrow:hover:before {color: black;}#sk-container-id-1 div.sk-estimator:hover label.sk-toggleable__label-arrow:before {color: black;}#sk-container-id-1 div.sk-toggleable__content {max-height: 0;max-width: 0;overflow: hidden;text-align: left;background-color: #f0f8ff;}#sk-container-id-1 div.sk-toggleable__content pre {margin: 0.2em;color: black;border-radius: 0.25em;background-color: #f0f8ff;}#sk-container-id-1 input.sk-toggleable__control:checked~div.sk-toggleable__content {max-height: 200px;max-width: 100%;overflow: auto;}#sk-container-id-1 input.sk-toggleable__control:checked~label.sk-toggleable__label-arrow:before {content: \"▾\";}#sk-container-id-1 div.sk-estimator input.sk-toggleable__control:checked~label.sk-toggleable__label {background-color: #d4ebff;}#sk-container-id-1 div.sk-label input.sk-toggleable__control:checked~label.sk-toggleable__label {background-color: #d4ebff;}#sk-container-id-1 input.sk-hidden--visually {border: 0;clip: rect(1px 1px 1px 1px);clip: rect(1px, 1px, 1px, 1px);height: 1px;margin: -1px;overflow: hidden;padding: 0;position: absolute;width: 1px;}#sk-container-id-1 div.sk-estimator {font-family: monospace;background-color: #f0f8ff;border: 1px dotted black;border-radius: 0.25em;box-sizing: border-box;margin-bottom: 0.5em;}#sk-container-id-1 div.sk-estimator:hover {background-color: #d4ebff;}#sk-container-id-1 div.sk-parallel-item::after {content: \"\";width: 100%;border-bottom: 1px solid gray;flex-grow: 1;}#sk-container-id-1 div.sk-label:hover label.sk-toggleable__label {background-color: #d4ebff;}#sk-container-id-1 div.sk-serial::before {content: \"\";position: absolute;border-left: 1px solid gray;box-sizing: border-box;top: 0;bottom: 0;left: 50%;z-index: 0;}#sk-container-id-1 div.sk-serial {display: flex;flex-direction: column;align-items: center;background-color: white;padding-right: 0.2em;padding-left: 0.2em;position: relative;}#sk-container-id-1 div.sk-item {position: relative;z-index: 1;}#sk-container-id-1 div.sk-parallel {display: flex;align-items: stretch;justify-content: center;background-color: white;position: relative;}#sk-container-id-1 div.sk-item::before, #sk-container-id-1 div.sk-parallel-item::before {content: \"\";position: absolute;border-left: 1px solid gray;box-sizing: border-box;top: 0;bottom: 0;left: 50%;z-index: -1;}#sk-container-id-1 div.sk-parallel-item {display: flex;flex-direction: column;z-index: 1;position: relative;background-color: white;}#sk-container-id-1 div.sk-parallel-item:first-child::after {align-self: flex-end;width: 50%;}#sk-container-id-1 div.sk-parallel-item:last-child::after {align-self: flex-start;width: 50%;}#sk-container-id-1 div.sk-parallel-item:only-child::after {width: 0;}#sk-container-id-1 div.sk-dashed-wrapped {border: 1px dashed gray;margin: 0 0.4em 0.5em 0.4em;box-sizing: border-box;padding-bottom: 0.4em;background-color: white;}#sk-container-id-1 div.sk-label label {font-family: monospace;font-weight: bold;display: inline-block;line-height: 1.2em;}#sk-container-id-1 div.sk-label-container {text-align: center;}#sk-container-id-1 div.sk-container {/* jupyter's `normalize.less` sets `[hidden] { display: none; }` but bootstrap.min.css set `[hidden] { display: none !important; }` so we also need the `!important` here to be able to override the default hidden behavior on the sphinx rendered scikit-learn.org. See: https://github.com/scikit-learn/scikit-learn/issues/21755 */display: inline-block !important;position: relative;}#sk-container-id-1 div.sk-text-repr-fallback {display: none;}</style><div id=\"sk-container-id-1\" class=\"sk-top-container\"><div class=\"sk-text-repr-fallback\"><pre>KNeighborsClassifier(n_neighbors=3)</pre><b>In a Jupyter environment, please rerun this cell to show the HTML representation or trust the notebook. <br />On GitHub, the HTML representation is unable to render, please try loading this page with nbviewer.org.</b></div><div class=\"sk-container\" hidden><div class=\"sk-item\"><div class=\"sk-estimator sk-toggleable\"><input class=\"sk-toggleable__control sk-hidden--visually\" id=\"sk-estimator-id-1\" type=\"checkbox\" checked><label for=\"sk-estimator-id-1\" class=\"sk-toggleable__label sk-toggleable__label-arrow\">KNeighborsClassifier</label><div class=\"sk-toggleable__content\"><pre>KNeighborsClassifier(n_neighbors=3)</pre></div></div></div></div></div>"
      ],
      "text/plain": [
       "KNeighborsClassifier(n_neighbors=3)"
      ]
     },
     "execution_count": 25,
     "metadata": {},
     "output_type": "execute_result"
    }
   ],
   "source": [
    "model.fit(features,play_encode)"
   ]
  },
  {
   "cell_type": "code",
   "execution_count": 32,
   "id": "0831c057",
   "metadata": {},
   "outputs": [],
   "source": [
    "prediction = model.predict([[2,0]])"
   ]
  },
  {
   "cell_type": "code",
   "execution_count": 33,
   "id": "bc7c5924",
   "metadata": {},
   "outputs": [
    {
     "data": {
      "text/plain": [
       "array([0], dtype=int64)"
      ]
     },
     "execution_count": 33,
     "metadata": {},
     "output_type": "execute_result"
    }
   ],
   "source": [
    "prediction"
   ]
  }
 ],
 "metadata": {
  "kernelspec": {
   "display_name": "Python 3 (ipykernel)",
   "language": "python",
   "name": "python3"
  },
  "language_info": {
   "codemirror_mode": {
    "name": "ipython",
    "version": 3
   },
   "file_extension": ".py",
   "mimetype": "text/x-python",
   "name": "python",
   "nbconvert_exporter": "python",
   "pygments_lexer": "ipython3",
   "version": "3.10.4"
  }
 },
 "nbformat": 4,
 "nbformat_minor": 5
}
