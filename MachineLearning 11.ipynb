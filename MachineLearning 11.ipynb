{
 "cells": [
  {
   "cell_type": "markdown",
   "id": "893090f8",
   "metadata": {},
   "source": [
    "# Random Forest Classifier"
   ]
  },
  {
   "cell_type": "markdown",
   "id": "ae42ac77",
   "metadata": {},
   "source": [
    "# Ensemble Methods"
   ]
  },
  {
   "cell_type": "code",
   "execution_count": 1,
   "id": "d82cc96b",
   "metadata": {},
   "outputs": [],
   "source": [
    "from sklearn.ensemble import RandomForestClassifier"
   ]
  },
  {
   "cell_type": "code",
   "execution_count": 2,
   "id": "cf468d5e",
   "metadata": {},
   "outputs": [],
   "source": [
    "rfc = RandomForestClassifier()"
   ]
  },
  {
   "cell_type": "code",
   "execution_count": 3,
   "id": "3b61563f",
   "metadata": {},
   "outputs": [
    {
     "ename": "NameError",
     "evalue": "name 'xtrain' is not defined",
     "output_type": "error",
     "traceback": [
      "\u001b[1;31m---------------------------------------------------------------------------\u001b[0m",
      "\u001b[1;31mNameError\u001b[0m                                 Traceback (most recent call last)",
      "Input \u001b[1;32mIn [3]\u001b[0m, in \u001b[0;36m<cell line: 1>\u001b[1;34m()\u001b[0m\n\u001b[1;32m----> 1\u001b[0m rfc\u001b[38;5;241m.\u001b[39mfit(\u001b[43mxtrain\u001b[49m,ytrain)\n\u001b[0;32m      2\u001b[0m rfc\u001b[38;5;241m.\u001b[39mscore(xtest,ytest)\n",
      "\u001b[1;31mNameError\u001b[0m: name 'xtrain' is not defined"
     ]
    }
   ],
   "source": [
    "rfc.fit(xtrain,ytrain)\n",
    "rfc.score(xtest,ytest)"
   ]
  },
  {
   "cell_type": "code",
   "execution_count": 4,
   "id": "9be3458c",
   "metadata": {},
   "outputs": [],
   "source": [
    "#xtrain is defined in machinelearning 10 video"
   ]
  },
  {
   "cell_type": "code",
   "execution_count": 5,
   "id": "ac6de5ab",
   "metadata": {},
   "outputs": [],
   "source": [
    "#n_estimators is the no of trees created inbuilt"
   ]
  },
  {
   "cell_type": "code",
   "execution_count": 6,
   "id": "6427b7dc",
   "metadata": {},
   "outputs": [],
   "source": [
    "#we can increase the no of n_estimators to increase the tree count "
   ]
  },
  {
   "cell_type": "code",
   "execution_count": 7,
   "id": "6115e0b8",
   "metadata": {},
   "outputs": [],
   "source": [
    "#n_estimators are parametres inside the randomforestclassifier"
   ]
  },
  {
   "cell_type": "code",
   "execution_count": null,
   "id": "e91b194c",
   "metadata": {},
   "outputs": [],
   "source": [
    "#rfc = RandomForestClassifier(n_estimators=10) 10 trees will be bulilt inside for processising"
   ]
  }
 ],
 "metadata": {
  "kernelspec": {
   "display_name": "Python 3 (ipykernel)",
   "language": "python",
   "name": "python3"
  },
  "language_info": {
   "codemirror_mode": {
    "name": "ipython",
    "version": 3
   },
   "file_extension": ".py",
   "mimetype": "text/x-python",
   "name": "python",
   "nbconvert_exporter": "python",
   "pygments_lexer": "ipython3",
   "version": "3.10.4"
  }
 },
 "nbformat": 4,
 "nbformat_minor": 5
}
